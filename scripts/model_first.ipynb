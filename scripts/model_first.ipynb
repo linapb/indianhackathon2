{
 "cells": [
  {
   "cell_type": "markdown",
   "metadata": {},
   "source": [
    "**BASELINE MODEL: CHURN PREDICTION**"
   ]
  },
  {
   "cell_type": "markdown",
   "metadata": {},
   "source": [
    "**Import libraries**"
   ]
  },
  {
   "cell_type": "code",
   "execution_count": 1,
   "metadata": {
    "collapsed": true
   },
   "outputs": [],
   "source": [
    "import pandas as pd\n",
    "import pandas_profiling as pp\n",
    "import numpy as np\n",
    "from sklearn.model_selection import StratifiedKFold\n",
    "from sklearn.preprocessing import LabelEncoder"
   ]
  },
  {
   "cell_type": "markdown",
   "metadata": {},
   "source": [
    "# Work with data"
   ]
  },
  {
   "cell_type": "markdown",
   "metadata": {},
   "source": [
    "**Load data**"
   ]
  },
  {
   "cell_type": "code",
   "execution_count": 2,
   "metadata": {
    "collapsed": true
   },
   "outputs": [],
   "source": [
    "train = pd.read_csv(\"../data/train.csv\", engine='c', sep=',', low_memory=False)\n",
    "cat_columns = train.select_dtypes(exclude=[np.number]).columns\n",
    "object_cols = {}\n",
    "for col in cat_columns:\n",
    "        object_cols[col] = 'str'\n",
    "object_cols['zip']='str'\n",
    "\n",
    "train = pd.read_csv(\"../data/train.csv\", engine='c', sep=',', dtype=object_cols)\n",
    "y = train[\"Responders\"]\n",
    "train.drop(\"Responders\", axis=1, inplace=True)\n",
    "test = pd.read_csv(\"../data/test.csv\", engine='c', sep=',', dtype=object_cols)\n"
   ]
  },
  {
   "cell_type": "code",
   "execution_count": 3,
   "metadata": {
    "collapsed": true
   },
   "outputs": [],
   "source": [
    "#pp.ProfileReport(train[train.columns[:100]])\n",
    "profile=pp.ProfileReport(train)\n",
    "profile.to_file(outputfile=\"../data/profile.html\")"
   ]
  },
  {
   "cell_type": "code",
   "execution_count": 4,
   "metadata": {
    "collapsed": true
   },
   "outputs": [],
   "source": [
    "#pp.ProfileReport(train[['zip', 'city']])\n"
   ]
  },
  {
   "cell_type": "markdown",
   "metadata": {},
   "source": [
    "**Clean data**"
   ]
  },
  {
   "cell_type": "code",
   "execution_count": 3,
   "metadata": {
    "collapsed": true
   },
   "outputs": [],
   "source": [
    "for df in [train, test]:\n",
    "    df.drop('city', axis = 1, inplace=True)"
   ]
  },
  {
   "cell_type": "code",
   "execution_count": 4,
   "metadata": {
    "collapsed": true
   },
   "outputs": [],
   "source": [
    "for df in [train, test]:\n",
    "    df['zip1']=df['zip'].str[:2]\n",
    "    df['zip2']=df['zip'].str[:3]\n",
    "    df.drop('zip', axis = 1, inplace=True)\n",
    "    "
   ]
  },
  {
   "cell_type": "markdown",
   "metadata": {},
   "source": [
    "**Deal with cathegorical features. Encoding**\n"
   ]
  },
  {
   "cell_type": "code",
   "execution_count": 5,
   "metadata": {
    "collapsed": true
   },
   "outputs": [],
   "source": [
    "from collections import defaultdict\n",
    "d = defaultdict(LabelEncoder)\n",
    "\n",
    "cat_columns = train.select_dtypes(exclude=[np.number]).columns\n",
    "\n",
    "# fit and encode train/test\n",
    "a = pd.concat([train[cat_columns], test[cat_columns]], axis=0).fillna('').apply(lambda x: d[x.name].fit(x))\n",
    "\n",
    "# transform encodings to train\n",
    "train[cat_columns] = train[cat_columns].fillna('').apply(lambda x: d[x.name].transform(x))\n",
    "\n",
    "# transform encodings to test\n",
    "test[cat_columns] = test[cat_columns].fillna('').apply(lambda x: d[x.name].transform(x))"
   ]
  },
  {
   "cell_type": "markdown",
   "metadata": {},
   "source": [
    "# Model"
   ]
  },
  {
   "cell_type": "markdown",
   "metadata": {},
   "source": [
    "**Train model**"
   ]
  },
  {
   "cell_type": "code",
   "execution_count": 6,
   "metadata": {},
   "outputs": [
    {
     "name": "stdout",
     "output_type": "stream",
     "text": [
      "Start training...\n",
      "Training finished.\n"
     ]
    }
   ],
   "source": [
    "import lightgbm as lgb\n",
    "\n",
    "lgb_train = lgb.Dataset(train, y)\n",
    "\n",
    "\n",
    "params = {\n",
    "    'application': 'binary',\n",
    "    'num_leaves':256,\n",
    "    'feature_fraction': 0.9,\n",
    "    'sub_row': 0.9,\n",
    "    #'min_data_in_leaf': 50,\n",
    "    'bagging_freq': 1,\n",
    "    'max_bin': 256,\n",
    "    #'metric': 'auc',\n",
    "    'metric': ('l1', 'l2'),\n",
    "    'num_threads': 4,\n",
    "    'verbose': 0,\n",
    "    'seed': 42,\n",
    "    'keep_training_booster': False\n",
    "}\n",
    "\n",
    "\n",
    "print('Start training...')\n",
    "\n",
    "model = lgb.train(params, lgb_train, num_boost_round=100)\n",
    "\n",
    "print('Training finished.')\n"
   ]
  },
  {
   "cell_type": "markdown",
   "metadata": {},
   "source": [
    "**Plot feature importance**"
   ]
  },
  {
   "cell_type": "code",
   "execution_count": 20,
   "metadata": {},
   "outputs": [
    {
     "name": "stdout",
     "output_type": "stream",
     "text": [
      "Plot feature importances...\n"
     ]
    },
    {
     "data": {
      "image/png": "[encoded data removed]",
      "text/plain": [
       "<matplotlib.figure.Figure at 0x1c505b3dc88>"
      ]
     },
     "metadata": {},
     "output_type": "display_data"
    }
   ],
   "source": [
    "import matplotlib.pyplot as plt\n",
    "%matplotlib inline\n",
    "\n",
    "print('Plot feature importances...')\n",
    "ax = lgb.plot_importance(model, max_num_features=10)\n",
    "#plt.show()"
   ]
  },
  {
   "cell_type": "markdown",
   "metadata": {},
   "source": [
    "**Explore features**"
   ]
  },
  {
   "cell_type": "code",
   "execution_count": null,
   "metadata": {
    "collapsed": true
   },
   "outputs": [],
   "source": [
    "import matplotlib.pyplot as plt\n",
    "from matplotlib import pyplot\n",
    "\n",
    "%matplotlib inline\n",
    "#print(type(train['EOP_prev1']))\n",
    "#print(type(train['EOP_prev1'][0]))\n",
    "#print(train['EOP_prev1'].min)\n",
    "#print(train['EOP_prev1'].max)\n",
    "\n",
    "\n",
    "series=train['EOP_prev1']\n",
    "\n",
    "#train['EOP_prev1'].hist()\n",
    "#np.histogram(train['EOP_prev1'])\n",
    "#count, division = np.histogram(series)\n",
    "#series.hist(bins=division)\n",
    "#series.value_counts(bins=60)\n",
    "#series.value_counts(bins=10).plot(kind='bar')\n",
    "#h=series.hist()\n",
    "#h.set_xlim((1,2))\n",
    "q = series.quantile(0.99)\n",
    "print(q)\n",
    "\n",
    "df=series.to_frame()\n",
    "h=df.plot(kind='bar', stacked=True)"
   ]
  },
  {
   "cell_type": "markdown",
   "metadata": {},
   "source": [
    "# Predict test"
   ]
  },
  {
   "cell_type": "code",
   "execution_count": 9,
   "metadata": {
    "collapsed": true
   },
   "outputs": [],
   "source": [
    "submission = pd.read_csv(\"../data/sample_submission.csv\")\n",
    "\n",
    "test[\"Responders\"] = model.predict(test)\n",
    "test[submission.columns].to_csv(\"../predictions/baseline_4.csv\", index=False)"
   ]
  },
  {
   "cell_type": "code",
   "execution_count": 10,
   "metadata": {
    "collapsed": true
   },
   "outputs": [],
   "source": [
    "#test[submission.columns]"
   ]
  },
  {
   "cell_type": "code",
   "execution_count": null,
   "metadata": {
    "collapsed": true
   },
   "outputs": [],
   "source": []
  }
 ],
 "metadata": {
  "kernelspec": {
   "display_name": "Python 3",
   "language": "python",
   "name": "python3"
  },
  "language_info": {
   "codemirror_mode": {
    "name": "ipython",
    "version": 3
   },
   "file_extension": ".py",
   "mimetype": "text/x-python",
   "name": "python",
   "nbconvert_exporter": "python",
   "pygments_lexer": "ipython3",
   "version": "3.6.3"
  }
 },
 "nbformat": 4,
 "nbformat_minor": 2
}
