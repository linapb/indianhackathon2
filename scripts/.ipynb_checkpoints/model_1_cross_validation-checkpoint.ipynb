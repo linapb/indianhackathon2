{
 "cells": [
  {
   "cell_type": "markdown",
   "metadata": {},
   "source": [
    "**MODEL: CHURN PREDICTION**"
   ]
  },
  {
   "cell_type": "markdown",
   "metadata": {},
   "source": [
    "**Import libraries**"
   ]
  },
  {
   "cell_type": "code",
   "execution_count": 1,
   "metadata": {
    "collapsed": true
   },
   "outputs": [],
   "source": [
    "import pandas as pd\n",
    "import pandas_profiling as pp\n",
    "import numpy as np\n",
    "from sklearn.model_selection import StratifiedKFold\n",
    "from sklearn.preprocessing import LabelEncoder\n",
    "from sklearn.model_selection import train_test_split\n",
    "\n",
    "from collections import defaultdict\n",
    "\n",
    "import lightgbm as lgb\n"
   ]
  },
  {
   "cell_type": "markdown",
   "metadata": {},
   "source": [
    "# Work with data"
   ]
  },
  {
   "cell_type": "markdown",
   "metadata": {},
   "source": [
    "### Load data"
   ]
  },
  {
   "cell_type": "code",
   "execution_count": 2,
   "metadata": {
    "collapsed": true
   },
   "outputs": [],
   "source": [
    "data = pd.read_csv(\"../data/train.csv\", engine='c', sep=',', low_memory=False)\n",
    "cat_columns = data.select_dtypes(exclude=[np.number]).columns\n",
    "object_cols = {}\n",
    "for col in cat_columns:\n",
    "        object_cols[col] = 'str'\n",
    "object_cols['zip']='str'\n",
    "\n",
    "data = pd.read_csv(\"../data/train.csv\", engine='c', sep=',', dtype=object_cols)\n",
    "responders = data[\"Responders\"].copy()\n",
    "data.drop(\"Responders\", axis=1, inplace=True)\n",
    "data.drop(\"UCIC_ID\", axis=1, inplace=True)\n"
   ]
  },
  {
   "cell_type": "markdown",
   "metadata": {},
   "source": [
    "### Work with features (Optional)"
   ]
  },
  {
   "cell_type": "markdown",
   "metadata": {},
   "source": [
    "**Create features**"
   ]
  },
  {
   "cell_type": "code",
   "execution_count": 12,
   "metadata": {
    "collapsed": true
   },
   "outputs": [],
   "source": [
    "#data['zip1']=data['zip'].str[:2]\n",
    "#data['zip2']=data['zip'].str[:3]\n"
   ]
  },
  {
   "cell_type": "markdown",
   "metadata": {},
   "source": [
    "**Delete features**"
   ]
  },
  {
   "cell_type": "markdown",
   "metadata": {},
   "source": [
    "*Delete constant features*"
   ]
  },
  {
   "cell_type": "code",
   "execution_count": 3,
   "metadata": {},
   "outputs": [
    {
     "name": "stdout",
     "output_type": "stream",
     "text": [
      "Number of constant numerical features  46\n",
      "Number of constant categorical features  0\n",
      "Number of columns before dropping:  375\n",
      "And after:  329\n"
     ]
    }
   ],
   "source": [
    "num_cols = data.select_dtypes(include=[np.number]).columns\n",
    "cat_cols = data.select_dtypes(exclude=[np.number]).columns\n",
    "\n",
    "# check for constant columns\n",
    "# numerical\n",
    "stats_num = data[num_cols].fillna(-999.99).apply(pd.Series.nunique, axis=0)\n",
    "const_num = stats_num[stats_num == 1].index.tolist()\n",
    "# categorical\n",
    "stats_cat = data[cat_cols].fillna('is_nan').apply(pd.Series.nunique, axis=0)\n",
    "const_cat = stats_cat[stats_cat == 1].index.tolist()\n",
    "# join both\n",
    "const_cols = const_num + const_cat\n",
    "\n",
    "print(\"Number of constant numerical features \", len(const_num) )\n",
    "print(\"Number of constant categorical features \", len(const_cat) )\n",
    "\n",
    "print(\"Number of columns before dropping: \", data.shape[1])\n",
    "data.drop(const_cols, axis=1, inplace=True)\n",
    "print(\"And after: \", data.shape[1])\n"
   ]
  },
  {
   "cell_type": "markdown",
   "metadata": {},
   "source": [
    "*Delete cathegorical features with too many options*"
   ]
  },
  {
   "cell_type": "code",
   "execution_count": 4,
   "metadata": {},
   "outputs": [
    {
     "name": "stdout",
     "output_type": "stream",
     "text": [
      "Features to drop 1:  ['city', 'zip']\n",
      "Features to drop 2:  ['Req_Resolved_PrevQ1', 'Query_Resolved_PrevQ1', 'Complaint_Resolved_PrevQ1']\n"
     ]
    }
   ],
   "source": [
    "# calculate number of unique values for each categorial feature\n",
    "stats_cat = data[cat_cols].fillna('is_nan').apply(pd.Series.nunique, axis=0)\n",
    "#print(stats_cat)\n",
    "\n",
    "# select features to drop\n",
    "# unique values > 1000\n",
    "feat_drop1 = stats_cat[stats_cat>1000].index.tolist()\n",
    "# unique values > 10\n",
    "feat_drop2 = stats_cat[(stats_cat>10) & (stats_cat<1000)].index.tolist()\n",
    "\n",
    "print(\"Features to drop 1: \", feat_drop1)\n",
    "print(\"Features to drop 2: \", feat_drop2)\n",
    "\n",
    "data.drop(feat_drop1, axis=1, inplace=True)\n",
    "data.drop(feat_drop2, axis=1, inplace=True)\n"
   ]
  },
  {
   "cell_type": "markdown",
   "metadata": {},
   "source": [
    "### Deal with cathegorical features. Encoding\n"
   ]
  },
  {
   "cell_type": "code",
   "execution_count": 5,
   "metadata": {
    "collapsed": true
   },
   "outputs": [],
   "source": [
    "d = defaultdict(LabelEncoder)\n",
    "\n",
    "cat_columns = data.select_dtypes(exclude=[np.number]).columns\n",
    "\n",
    "# fit and encode data\n",
    "a = data[cat_columns].fillna('').apply(lambda x: d[x.name].fit(x))\n",
    "\n",
    "# transform encodings to data\n",
    "data[cat_columns] = data[cat_columns].fillna('').apply(lambda x: d[x.name].transform(x))\n"
   ]
  },
  {
   "cell_type": "markdown",
   "metadata": {},
   "source": [
    "# Model"
   ]
  },
  {
   "cell_type": "markdown",
   "metadata": {},
   "source": [
    "**Introduce a model**"
   ]
  },
  {
   "cell_type": "code",
   "execution_count": 6,
   "metadata": {
    "collapsed": true
   },
   "outputs": [],
   "source": [
    "\n",
    "params = {\n",
    "    'application': 'binary',\n",
    "    'num_leaves':256,\n",
    "    'feature_fraction': 0.9,\n",
    "    'sub_row': 0.9,\n",
    "    #'min_data_in_leaf': 50,\n",
    "    'bagging_freq': 1,\n",
    "    'max_bin': 256,\n",
    "    #'metric': 'auc',\n",
    "    'metric': ('l1', 'l2'),\n",
    "    'num_threads': 4,\n",
    "    'verbose': 0,\n",
    "    'seed': 42,\n",
    "    'keep_training_booster': False\n",
    "}\n",
    "\n"
   ]
  },
  {
   "cell_type": "markdown",
   "metadata": {},
   "source": [
    "** Cross-validation of the model**"
   ]
  },
  {
   "cell_type": "code",
   "execution_count": 7,
   "metadata": {
    "scrolled": false
   },
   "outputs": [
    {
     "name": "stdout",
     "output_type": "stream",
     "text": [
      "Start training number 1 ...\n",
      "Training number 1 finished.\n",
      "Lift meric =  0.6773787629464718\n",
      "Start training number 2 ...\n",
      "Training number 2 finished.\n",
      "Lift meric =  0.6785052200214655\n",
      "Start training number 3 ...\n",
      "Training number 3 finished.\n",
      "Lift meric =  0.6735220968050507\n",
      "Start training number 4 ...\n",
      "Training number 4 finished.\n",
      "Lift meric =  0.6720092690933668\n",
      "Start training number 5 ...\n",
      "Training number 5 finished.\n",
      "Lift meric =  0.6680574422666408\n",
      "Mean of lifts \t \t=  0.673894558227\n",
      "Variation of lifts \t=  0.00377260785328\n"
     ]
    }
   ],
   "source": [
    "def metric_lift(df, percentage=0.2):\n",
    "    return df.sort_values('prediction', ascending=False).iloc[:int(len(df)*percentage)][\"Responders\"].sum()/df[\"Responders\"].sum()\n",
    "\n",
    "num_folds = 5\n",
    "subset_size = int(len(data)/num_folds)\n",
    "lifts=[]\n",
    "for i in range(num_folds):\n",
    "    #take fold\n",
    "    x_test  = data[i*subset_size:][:subset_size]\n",
    "    x_train = pd.concat([data[:i*subset_size],data[(i+1)*subset_size:]])\n",
    "    y_test  = responders[i*subset_size:][:subset_size]\n",
    "    y_train = pd.concat([responders[:i*subset_size],responders[(i+1)*subset_size:]])\n",
    "    \n",
    "    # train using training_this_round\n",
    "    lgb_train = lgb.Dataset(x_train, y_train)\n",
    "    \n",
    "    print('Start training number {} ...'.format(i+1))\n",
    "    model = lgb.train(params, lgb_train, num_boost_round=100)\n",
    "    print('Training number {} finished.'.format(i+1))\n",
    "    # predict test\n",
    "    validation=pd.DataFrame()\n",
    "    validation[\"Responders\"]=y_test\n",
    "    validation[\"prediction\"]=model.predict(x_test)\n",
    "    # calculate lift\n",
    "    lift=metric_lift(validation)\n",
    "    print('Lift meric = ', lift)\n",
    "\n",
    "    # save accuracy\n",
    "    lifts.append(lift)\n",
    "\n",
    "#find mean accuracy over all rounds\n",
    "mean_lifts=np.mean(lifts)\n",
    "std_lifts=np.std(lifts)\n",
    "print(\"Mean of lifts \\t \\t= \", mean_lifts)\n",
    "print(\"Variation of lifts \\t= \", std_lifts)\n"
   ]
  },
  {
   "cell_type": "markdown",
   "metadata": {},
   "source": [
    "**Save results of cross-validation of the model to a file (Optional)**"
   ]
  },
  {
   "cell_type": "code",
   "execution_count": 8,
   "metadata": {
    "collapsed": true
   },
   "outputs": [],
   "source": [
    "with open(\"compare_models.txt\", \"a\") as myfile:\n",
    "    myfile.write(\"\\n#\")\n",
    "    myfile.write(\"\\nMean of lifts \\t \\t= {}\".format(mean_lifts))\n",
    "    myfile.write(\"\\nVariation of lifts \\t= {}\".format(std_lifts))\n",
    "    myfile.write(\"\\n\")\n"
   ]
  },
  {
   "cell_type": "code",
   "execution_count": null,
   "metadata": {
    "collapsed": true
   },
   "outputs": [],
   "source": []
  }
 ],
 "metadata": {
  "kernelspec": {
   "display_name": "Python 3",
   "language": "python",
   "name": "python3"
  },
  "language_info": {
   "codemirror_mode": {
    "name": "ipython",
    "version": 3
   },
   "file_extension": ".py",
   "mimetype": "text/x-python",
   "name": "python",
   "nbconvert_exporter": "python",
   "pygments_lexer": "ipython3",
   "version": "3.6.3"
  }
 },
 "nbformat": 4,
 "nbformat_minor": 2
}
