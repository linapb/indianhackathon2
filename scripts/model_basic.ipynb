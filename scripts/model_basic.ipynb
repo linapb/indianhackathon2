{
 "cells": [
  {
   "cell_type": "markdown",
   "metadata": {},
   "source": [
    "**BASELINE MODEL: CHURN PREDICTION**"
   ]
  },
  {
   "cell_type": "markdown",
   "metadata": {},
   "source": [
    "**Import libraries**"
   ]
  },
  {
   "cell_type": "code",
   "execution_count": 1,
   "metadata": {
    "collapsed": true
   },
   "outputs": [],
   "source": [
    "import pandas as pd\n",
    "import pandas_profiling as pp\n",
    "import numpy as np\n",
    "from sklearn.model_selection import StratifiedKFold\n",
    "from sklearn.preprocessing import LabelEncoder\n",
    "from sklearn.model_selection import train_test_split\n"
   ]
  },
  {
   "cell_type": "markdown",
   "metadata": {},
   "source": [
    "# Work with data"
   ]
  },
  {
   "cell_type": "markdown",
   "metadata": {},
   "source": [
    "**Load data**"
   ]
  },
  {
   "cell_type": "code",
   "execution_count": 8,
   "metadata": {
    "collapsed": true
   },
   "outputs": [],
   "source": [
    "train = pd.read_csv(\"../data/train.csv\", engine='c', sep=',', low_memory=False)\n",
    "cat_columns = train.select_dtypes(exclude=[np.number]).columns\n",
    "object_cols = {}\n",
    "for col in cat_columns:\n",
    "        object_cols[col] = 'str'\n",
    "object_cols['zip']='str'\n",
    "\n",
    "train = pd.read_csv(\"../data/train.csv\", engine='c', sep=',', dtype=object_cols)\n",
    "responders = train[\"Responders\"].values\n",
    "train.drop(\"Responders\", axis=1, inplace=True)\n",
    "#train.drop(\"UCIC_ID\", axis=1, inplace=True)\n",
    "\n",
    "\n",
    "x_train, x_test, y_train, y_test = train_test_split(train, responders, test_size=0.2, random_state=0)\n",
    "\n",
    "id_train=x_train[\"UCIC_ID\"].values\n",
    "id_test=x_test[\"UCIC_ID\"].values\n",
    "\n",
    "x_train=x_train.copy()\n",
    "x_train.drop(\"UCIC_ID\", axis=1, inplace=True)\n",
    "y_train=y_train.copy()\n",
    "x_test=x_test.copy()\n",
    "x_test.drop(\"UCIC_ID\", axis=1, inplace=True)\n",
    "y_test=y_test.copy()\n"
   ]
  },
  {
   "cell_type": "code",
   "execution_count": 9,
   "metadata": {},
   "outputs": [
    {
     "data": {
      "text/plain": [
       "pandas.core.frame.DataFrame"
      ]
     },
     "execution_count": 9,
     "metadata": {},
     "output_type": "execute_result"
    }
   ],
   "source": [
    "type(x_train)"
   ]
  },
  {
   "cell_type": "code",
   "execution_count": null,
   "metadata": {
    "collapsed": true
   },
   "outputs": [],
   "source": [
    "#pp.ProfileReport(train[train.columns[:100]])"
   ]
  },
  {
   "cell_type": "code",
   "execution_count": null,
   "metadata": {
    "collapsed": true
   },
   "outputs": [],
   "source": [
    "#pp.ProfileReport(train[['zip', 'city']])\n"
   ]
  },
  {
   "cell_type": "markdown",
   "metadata": {},
   "source": [
    "**Clean data**"
   ]
  },
  {
   "cell_type": "code",
   "execution_count": null,
   "metadata": {
    "collapsed": true
   },
   "outputs": [],
   "source": [
    "#for df in [train, test]:\n",
    "#    df.drop('city', axis = 1, inplace=True)"
   ]
  },
  {
   "cell_type": "code",
   "execution_count": null,
   "metadata": {
    "collapsed": true
   },
   "outputs": [],
   "source": [
    "#for df in [train, test]:\n",
    "#    df['zip1']=df['zip'].str[:2]\n",
    "#    df['zip2']=df['zip'].str[:3]\n",
    "#    df.drop('zip', axis = 1, inplace=True)\n",
    "    "
   ]
  },
  {
   "cell_type": "markdown",
   "metadata": {},
   "source": [
    "**Deal with cathegorical features. Encoding**\n"
   ]
  },
  {
   "cell_type": "code",
   "execution_count": 10,
   "metadata": {
    "collapsed": true
   },
   "outputs": [],
   "source": [
    "from collections import defaultdict\n",
    "d = defaultdict(LabelEncoder)\n",
    "\n",
    "cat_columns = x_train.select_dtypes(exclude=[np.number]).columns\n",
    "\n",
    "# fit and encode train/test\n",
    "a = pd.concat([x_train[cat_columns], x_test[cat_columns]], axis=0).fillna('').apply(lambda x: d[x.name].fit(x))\n",
    "\n",
    "# transform encodings to train\n",
    "x_train[cat_columns] = x_train[cat_columns].fillna('').apply(lambda x: d[x.name].transform(x))\n",
    "\n",
    "# transform encodings to test\n",
    "x_test[cat_columns] = x_test[cat_columns].fillna('').apply(lambda x: d[x.name].transform(x))"
   ]
  },
  {
   "cell_type": "markdown",
   "metadata": {},
   "source": [
    "# Model"
   ]
  },
  {
   "cell_type": "markdown",
   "metadata": {},
   "source": [
    "**Train model**"
   ]
  },
  {
   "cell_type": "code",
   "execution_count": 11,
   "metadata": {},
   "outputs": [
    {
     "name": "stdout",
     "output_type": "stream",
     "text": [
      "Start training...\n",
      "Training finished.\n"
     ]
    }
   ],
   "source": [
    "import lightgbm as lgb\n",
    "\n",
    "lgb_train = lgb.Dataset(x_train, y_train)\n",
    "\n",
    "\n",
    "params = {\n",
    "    'application': 'binary',\n",
    "    'num_leaves':256,\n",
    "    'feature_fraction': 0.9,\n",
    "    'sub_row': 0.9,\n",
    "    #'min_data_in_leaf': 50,\n",
    "    'bagging_freq': 1,\n",
    "    'max_bin': 256,\n",
    "    #'metric': 'auc',\n",
    "    'metric': ('l1', 'l2'),\n",
    "    'num_threads': 4,\n",
    "    'verbose': 0,\n",
    "    'seed': 42,\n",
    "    'keep_training_booster': False\n",
    "}\n",
    "\n",
    "\n",
    "print('Start training...')\n",
    "\n",
    "model = lgb.train(params, lgb_train, num_boost_round=100)\n",
    "\n",
    "print('Training finished.')\n"
   ]
  },
  {
   "cell_type": "markdown",
   "metadata": {},
   "source": [
    "**Plot feature importance**"
   ]
  },
  {
   "cell_type": "code",
   "execution_count": 20,
   "metadata": {},
   "outputs": [
    {
     "name": "stdout",
     "output_type": "stream",
     "text": [
      "Plot feature importances...\n"
     ]
    },
    {
     "data": {
      "image/png": "[encoded data removed]",
      "text/plain": [
       "<matplotlib.figure.Figure at 0x21d001d84e0>"
      ]
     },
     "metadata": {},
     "output_type": "display_data"
    }
   ],
   "source": [
    "import matplotlib.pyplot as plt\n",
    "%matplotlib inline\n",
    "\n",
    "print('Plot feature importances...')\n",
    "ax = lgb.plot_importance(model, max_num_features=10)\n",
    "#plt.show()"
   ]
  },
  {
   "cell_type": "markdown",
   "metadata": {},
   "source": [
    "# Test on train data"
   ]
  },
  {
   "cell_type": "code",
   "execution_count": 39,
   "metadata": {},
   "outputs": [
    {
     "ename": "SyntaxError",
     "evalue": "invalid syntax (<ipython-input-39-4a63b4f04197>, line 2)",
     "output_type": "error",
     "traceback": [
      "\u001b[1;36m  File \u001b[1;32m\"<ipython-input-39-4a63b4f04197>\"\u001b[1;36m, line \u001b[1;32m2\u001b[0m\n\u001b[1;33m    return df.sort_values('prediction', ascending=False).iloc[:int(len(df)*percentage)][\"Responders\"].sum() /\u001b[0m\n\u001b[1;37m                                                                                                             ^\u001b[0m\n\u001b[1;31mSyntaxError\u001b[0m\u001b[1;31m:\u001b[0m invalid syntax\n"
     ]
    }
   ],
   "source": [
    "def lift(df, percentage=0.2):\n",
    "    return df.sort_values('prediction', ascending=False).iloc[:int(len(df)*percentage)][\"Responders\"].sum()/df[\"Responders\"].sum()\n",
    "\n",
    "\n",
    "validation1=pd.DataFrame()\n",
    "validation1[\"UCIC_ID\"]=id_train\n",
    "validation1[\"Responders\"]=y_train\n",
    "validation1[\"prediction\"]=model.predict(x_train)\n",
    "\n",
    "print(sum(validation1[\"Responders\"]))\n",
    "\n",
    "print(validation1.sort_values(\"prediction\", ascending =False)[:48000][\"Responders\"].sum())\n",
    "\n",
    "print(34620/41358)\n",
    "\n",
    "print('Lift meric = ', lift(validation1))"
   ]
  },
  {
   "cell_type": "markdown",
   "metadata": {},
   "source": [
    "# Test on test subsumpling"
   ]
  },
  {
   "cell_type": "code",
   "execution_count": 30,
   "metadata": {},
   "outputs": [
    {
     "name": "stdout",
     "output_type": "stream",
     "text": [
      "10339\n",
      "6965\n"
     ]
    }
   ],
   "source": [
    "validation2=pd.DataFrame()\n",
    "validation2[\"UCIC_ID\"]=id_test\n",
    "validation2[\"Responders\"]=y_test\n",
    "validation2[\"prediction\"]=model.predict(x_test)\n",
    "\n",
    "\n",
    "print(sum(validation2[\"Responders\"]))\n",
    "\n",
    "print(sum(validation2.sort_values(\"prediction\", ascending =False)[:12000][\"Responders\"]))"
   ]
  },
  {
   "cell_type": "markdown",
   "metadata": {},
   "source": [
    "# Predict test"
   ]
  },
  {
   "cell_type": "code",
   "execution_count": null,
   "metadata": {
    "collapsed": true
   },
   "outputs": [],
   "source": [
    "submission = pd.read_csv(\"../data/sample_submission.csv\")\n",
    "\n",
    "test[\"Responders\"] = model.predict(test)\n",
    "test[submission.columns].to_csv(\"../predictions/baseline_4.csv\", index=False)"
   ]
  },
  {
   "cell_type": "code",
   "execution_count": null,
   "metadata": {
    "collapsed": true
   },
   "outputs": [],
   "source": [
    "#test[submission.columns]"
   ]
  },
  {
   "cell_type": "code",
   "execution_count": null,
   "metadata": {
    "collapsed": true
   },
   "outputs": [],
   "source": []
  }
 ],
 "metadata": {
  "kernelspec": {
   "display_name": "Python 3",
   "language": "python",
   "name": "python3"
  },
  "language_info": {
   "codemirror_mode": {
    "name": "ipython",
    "version": 3
   },
   "file_extension": ".py",
   "mimetype": "text/x-python",
   "name": "python",
   "nbconvert_exporter": "python",
   "pygments_lexer": "ipython3",
   "version": "3.6.3"
  }
 },
 "nbformat": 4,
 "nbformat_minor": 2
}
